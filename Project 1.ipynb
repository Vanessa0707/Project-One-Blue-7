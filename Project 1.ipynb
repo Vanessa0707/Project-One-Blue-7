{
 "cells": [
  {
   "cell_type": "code",
   "execution_count": 1,
   "metadata": {},
   "outputs": [],
   "source": [
    "import pandas as pd     \n",
    "import numpy as np\n",
    "import json\n",
    "import requests\n",
    "import urllib\n",
    "from datetime import datetime\n"
   ]
  },
  {
   "cell_type": "code",
   "execution_count": 2,
   "metadata": {},
   "outputs": [],
   "source": [
    "## Get data from FRED"
   ]
  },
  {
   "cell_type": "code",
   "execution_count": 3,
   "metadata": {},
   "outputs": [],
   "source": [
    "\n",
    "my_key=\"3d9da500bf6919c330cd611dd2d027f3\"                             \n",
    "\n",
    "link = 'https://api.stlouisfed.org/fred/series/observations?series_id=DPRIME&api_key=3d9da500bf6919c330cd611dd2d027f3&file_type=json&frequency=d'\n",
    "f = urllib.request.urlopen(link)\n",
    "raw_data = json.loads(f.read().decode(\"utf-8\"))                                     \n",
    "    \n",
    "dataset=(pd.DataFrame(raw_data['observations'])[['date','value']])    \n",
    "dataset=dataset.rename(index=str, columns={\"value\": \"DPRIME\"})\n",
    "\n",
    "dataset.set_index('date', inplace=True)\n",
    "dataset.to_csv('Prime_Rate.csv')"
   ]
  },
  {
   "cell_type": "code",
   "execution_count": 4,
   "metadata": {},
   "outputs": [],
   "source": [
    "my_key=\"3d9da500bf6919c330cd611dd2d027f3\"                             \n",
    "\n",
    "link = 'https://api.stlouisfed.org/fred/series/observations?series_id=USD3MTD156N&api_key=3d9da500bf6919c330cd611dd2d027f3&file_type=json&frequency=d'\n",
    "f = urllib.request.urlopen(link)\n",
    "raw_data = json.loads(f.read().decode(\"utf-8\"))                                     \n",
    "    \n",
    "dataset=(pd.DataFrame(raw_data['observations'])[['date','value']])    \n",
    "dataset=dataset.rename(index=str, columns={\"value\": \"LIBOR\"})\n",
    "\n",
    "dataset.set_index('date', inplace=True)\n",
    "dataset.to_csv('LIBOR.csv')"
   ]
  },
  {
   "cell_type": "code",
   "execution_count": 5,
   "metadata": {},
   "outputs": [],
   "source": [
    "my_key=\"3d9da500bf6919c330cd611dd2d027f3\"                             \n",
    "\n",
    "link = 'https://api.stlouisfed.org/fred/series/observations?series_id=MORTGAGE30US&api_key=3d9da500bf6919c330cd611dd2d027f3&file_type=json'\n",
    "f = urllib.request.urlopen(link)\n",
    "raw_data = json.loads(f.read().decode(\"utf-8\"))                                     \n",
    "    \n",
    "dataset=(pd.DataFrame(raw_data['observations'])[['date','value']])    \n",
    "dataset=dataset.rename(index=str, columns={\"value\": \"Mortgage\"})\n",
    "\n",
    "dataset.set_index('date', inplace=True)\n",
    "dataset.to_csv('Mortgage.csv')"
   ]
  },
  {
   "cell_type": "code",
   "execution_count": 6,
   "metadata": {},
   "outputs": [],
   "source": [
    "my_key=\"3d9da500bf6919c330cd611dd2d027f3\"                             \n",
    "\n",
    "link = 'https://api.stlouisfed.org/fred/series/observations?series_id=DGS30&api_key=3d9da500bf6919c330cd611dd2d027f3&file_type=json&frequency=d'\n",
    "f = urllib.request.urlopen(link)\n",
    "raw_data = json.loads(f.read().decode(\"utf-8\"))                                     \n",
    "    \n",
    "dataset=(pd.DataFrame(raw_data['observations'])[['date','value']])    \n",
    "dataset=dataset.rename(index=str, columns={\"value\": \"T bond\"})\n",
    "\n",
    "dataset.set_index('date', inplace=True)\n",
    "dataset.to_csv('T Bond.csv')"
   ]
  },
  {
   "cell_type": "code",
   "execution_count": 7,
   "metadata": {},
   "outputs": [],
   "source": [
    "## Get data from Bloomberg"
   ]
  },
  {
   "cell_type": "code",
   "execution_count": 8,
   "metadata": {},
   "outputs": [],
   "source": [
    "\n",
    "Prime_rate=pd.read_csv('Prime_Rate.csv')\n",
    "LIBOR_rate=pd.read_csv('LIBOR.csv')\n",
    "Mortgage_rate=pd.read_csv('Mortgage.csv')\n",
    "Tbond_rate=pd.read_csv('T Bond.csv')"
   ]
  },
  {
   "cell_type": "code",
   "execution_count": 9,
   "metadata": {},
   "outputs": [],
   "source": [
    "AIG_data=pd.read_csv('AIG.csv')\n",
    "CX_data=pd.read_csv('CX.csv')\n",
    "WMT_data=pd.read_csv('WMT.csv')\n",
    "\n",
    "df = AIG_data.copy()\n",
    "df = CX_data.copy()\n",
    "df = WMT_data.copy()\n",
    "\n"
   ]
  },
  {
   "cell_type": "code",
   "execution_count": 10,
   "metadata": {},
   "outputs": [],
   "source": [
    "## Rename the columns"
   ]
  },
  {
   "cell_type": "code",
   "execution_count": 11,
   "metadata": {},
   "outputs": [],
   "source": [
    "\n",
    "AIG_data=AIG_data.rename(columns={\"AIG US Equity\": \"Date\",\"Last Price\":\"AIG\"})\n",
    "CX_data=CX_data.rename(columns={\"CX US Equity\": \"Date\",\"Last Price\":\"CX\"})\n",
    "WMT_data=WMT_data.rename(columns={\"WMT US Equity\": \"Date\",\"Last Price\":\"WMT\"})\n"
   ]
  },
  {
   "cell_type": "code",
   "execution_count": 12,
   "metadata": {},
   "outputs": [],
   "source": [
    "Prime_rate=Prime_rate.rename(columns={\"date\": \"Date\",\"value\":\"DPRIME\"})\n",
    "LIBOR_rate=LIBOR_rate.rename(columns={\"date\": \"Date\"})\n",
    "Mortgage_rate=Mortgage_rate.rename(columns={\"date\": \"Date\"})\n",
    "Tbond_rate=Tbond_rate.rename(columns={\"date\": \"Date\"})\n"
   ]
  },
  {
   "cell_type": "code",
   "execution_count": 13,
   "metadata": {},
   "outputs": [],
   "source": [
    "## Change to the numeric values"
   ]
  },
  {
   "cell_type": "code",
   "execution_count": 14,
   "metadata": {},
   "outputs": [],
   "source": [
    "Prime_rate['DPRIME']=pd.to_numeric(Prime_rate['DPRIME'],errors='coerce')\n",
    "LIBOR_rate['LIBOR']=pd.to_numeric(LIBOR_rate['LIBOR'],errors='coerce')\n",
    "Mortgage_rate['Mortgage']=pd.to_numeric(Mortgage_rate['Mortgage'],errors='coerce')\n",
    "Tbond_rate['T bond']=pd.to_numeric(Tbond_rate['T bond'],errors='coerce')\n",
    "AIG_data['AIG']=pd.to_numeric(AIG_data['AIG'],errors='coerce')\n",
    "CX_data['CX']=pd.to_numeric(CX_data['CX'],errors='coerce')\n",
    "WMT_data['WMT']=pd.to_numeric(WMT_data['WMT'],errors='coerce')"
   ]
  },
  {
   "cell_type": "code",
   "execution_count": 252,
   "metadata": {},
   "outputs": [],
   "source": [
    "## 2C\n",
    "\n",
    "## Find the number of NaNs or null values in each column."
   ]
  },
  {
   "cell_type": "code",
   "execution_count": 17,
   "metadata": {},
   "outputs": [
    {
     "data": {
      "text/plain": [
       "Date       0\n",
       "LIBOR    267\n",
       "dtype: int64"
      ]
     },
     "execution_count": 17,
     "metadata": {},
     "output_type": "execute_result"
    }
   ],
   "source": [
    "LIBOR_rate.isna().sum()"
   ]
  },
  {
   "cell_type": "code",
   "execution_count": 15,
   "metadata": {},
   "outputs": [
    {
     "data": {
      "text/plain": [
       "Date        0\n",
       "DPRIME    372\n",
       "dtype: int64"
      ]
     },
     "execution_count": 15,
     "metadata": {},
     "output_type": "execute_result"
    }
   ],
   "source": [
    "Prime_rate.isna().sum()"
   ]
  },
  {
   "cell_type": "code",
   "execution_count": 16,
   "metadata": {},
   "outputs": [
    {
     "data": {
      "text/plain": [
       "Date        0\n",
       "Mortgage    0\n",
       "dtype: int64"
      ]
     },
     "execution_count": 16,
     "metadata": {},
     "output_type": "execute_result"
    }
   ],
   "source": [
    "Mortgage_rate.isna().sum()"
   ]
  },
  {
   "cell_type": "code",
   "execution_count": 18,
   "metadata": {},
   "outputs": [
    {
     "data": {
      "text/plain": [
       "Date         0\n",
       "T bond    1451\n",
       "dtype: int64"
      ]
     },
     "execution_count": 18,
     "metadata": {},
     "output_type": "execute_result"
    }
   ],
   "source": [
    "Tbond_rate.isna().sum()"
   ]
  },
  {
   "cell_type": "code",
   "execution_count": 19,
   "metadata": {},
   "outputs": [
    {
     "data": {
      "text/plain": [
       "Date                         0\n",
       "AIG                          0\n",
       "Mid Price                    2\n",
       "Bid Price                    5\n",
       "Ask Price                    5\n",
       "High Price                   0\n",
       "Low Price                    0\n",
       "Official Closing Price    3736\n",
       "dtype: int64"
      ]
     },
     "execution_count": 19,
     "metadata": {},
     "output_type": "execute_result"
    }
   ],
   "source": [
    "AIG_data.isna().sum()"
   ]
  },
  {
   "cell_type": "code",
   "execution_count": 20,
   "metadata": {},
   "outputs": [
    {
     "data": {
      "text/plain": [
       "Date                         0\n",
       "CX                           0\n",
       "Mid Price                    1\n",
       "Bid Price                    3\n",
       "Ask Price                    1\n",
       "High Price                   0\n",
       "Low Price                    0\n",
       "Official Closing Price    3736\n",
       "dtype: int64"
      ]
     },
     "execution_count": 20,
     "metadata": {},
     "output_type": "execute_result"
    }
   ],
   "source": [
    "CX_data.isna().sum()"
   ]
  },
  {
   "cell_type": "code",
   "execution_count": 21,
   "metadata": {},
   "outputs": [
    {
     "data": {
      "text/plain": [
       "Date                         0\n",
       "WMT                          0\n",
       "Mid Price                    0\n",
       "Bid Price                    2\n",
       "Ask Price                   10\n",
       "High Price                   0\n",
       "Low Price                    0\n",
       "Official Closing Price    3736\n",
       "dtype: int64"
      ]
     },
     "execution_count": 21,
     "metadata": {},
     "output_type": "execute_result"
    }
   ],
   "source": [
    "WMT_data.isna().sum()"
   ]
  },
  {
   "cell_type": "code",
   "execution_count": 260,
   "metadata": {},
   "outputs": [],
   "source": [
    "## Find empty string"
   ]
  },
  {
   "cell_type": "code",
   "execution_count": 22,
   "metadata": {},
   "outputs": [
    {
     "name": "stdout",
     "output_type": "stream",
     "text": [
      "Date      0\n",
      "DPRIME    0\n",
      "dtype: int64\n"
     ]
    }
   ],
   "source": [
    "print(Prime_rate[Prime_rate==\"\"].count())"
   ]
  },
  {
   "cell_type": "code",
   "execution_count": 23,
   "metadata": {},
   "outputs": [
    {
     "name": "stdout",
     "output_type": "stream",
     "text": [
      "Date     0\n",
      "LIBOR    0\n",
      "dtype: int64\n"
     ]
    }
   ],
   "source": [
    "print(LIBOR_rate[LIBOR_rate==\"\"].count())"
   ]
  },
  {
   "cell_type": "code",
   "execution_count": 24,
   "metadata": {},
   "outputs": [
    {
     "name": "stdout",
     "output_type": "stream",
     "text": [
      "Date        0\n",
      "Mortgage    0\n",
      "dtype: int64\n"
     ]
    }
   ],
   "source": [
    "print(Mortgage_rate[Mortgage_rate==\"\"].count())"
   ]
  },
  {
   "cell_type": "code",
   "execution_count": 25,
   "metadata": {},
   "outputs": [
    {
     "name": "stdout",
     "output_type": "stream",
     "text": [
      "Date      0\n",
      "T bond    0\n",
      "dtype: int64\n"
     ]
    }
   ],
   "source": [
    "print(Tbond_rate[Tbond_rate==\"\"].count())"
   ]
  },
  {
   "cell_type": "code",
   "execution_count": 26,
   "metadata": {},
   "outputs": [
    {
     "name": "stdout",
     "output_type": "stream",
     "text": [
      "Date                      0\n",
      "AIG                       0\n",
      "Mid Price                 0\n",
      "Bid Price                 0\n",
      "Ask Price                 0\n",
      "High Price                0\n",
      "Low Price                 0\n",
      "Official Closing Price    0\n",
      "dtype: int64\n"
     ]
    }
   ],
   "source": [
    "print(AIG_data[AIG_data==\"\"].count())"
   ]
  },
  {
   "cell_type": "code",
   "execution_count": 27,
   "metadata": {},
   "outputs": [
    {
     "name": "stdout",
     "output_type": "stream",
     "text": [
      "Date                      0\n",
      "CX                        0\n",
      "Mid Price                 0\n",
      "Bid Price                 0\n",
      "Ask Price                 0\n",
      "High Price                0\n",
      "Low Price                 0\n",
      "Official Closing Price    0\n",
      "dtype: int64\n"
     ]
    }
   ],
   "source": [
    "print(CX_data[CX_data==\"\"].count())"
   ]
  },
  {
   "cell_type": "code",
   "execution_count": 28,
   "metadata": {},
   "outputs": [
    {
     "name": "stdout",
     "output_type": "stream",
     "text": [
      "Date                      0\n",
      "WMT                       0\n",
      "Mid Price                 0\n",
      "Bid Price                 0\n",
      "Ask Price                 0\n",
      "High Price                0\n",
      "Low Price                 0\n",
      "Official Closing Price    0\n",
      "dtype: int64\n"
     ]
    }
   ],
   "source": [
    "print(WMT_data[WMT_data==\"\"].count())"
   ]
  },
  {
   "cell_type": "code",
   "execution_count": 268,
   "metadata": {},
   "outputs": [],
   "source": [
    "## 2d\n",
    "\n",
    "## If more than 40% of any column is NaNs or empty strings or non-float values, drop that column."
   ]
  },
  {
   "cell_type": "code",
   "execution_count": 29,
   "metadata": {},
   "outputs": [],
   "source": [
    "AIG_data=AIG_data.drop([\"Official Closing Price\"],axis=\"columns\")"
   ]
  },
  {
   "cell_type": "code",
   "execution_count": 30,
   "metadata": {},
   "outputs": [],
   "source": [
    "CX_data=CX_data.drop([\"Official Closing Price\"],axis=\"columns\")\n"
   ]
  },
  {
   "cell_type": "code",
   "execution_count": 31,
   "metadata": {},
   "outputs": [],
   "source": [
    "WMT_data=WMT_data.drop([\"Official Closing Price\"],axis=\"columns\")\n"
   ]
  },
  {
   "cell_type": "code",
   "execution_count": 272,
   "metadata": {},
   "outputs": [],
   "source": [
    "## 2e\n",
    "## use interpolate() to replace the NaNs or empty strings "
   ]
  },
  {
   "cell_type": "code",
   "execution_count": 32,
   "metadata": {},
   "outputs": [],
   "source": [
    "Prime_rate=Prime_rate.interpolate(\"linear\")"
   ]
  },
  {
   "cell_type": "code",
   "execution_count": 33,
   "metadata": {},
   "outputs": [],
   "source": [
    "LIBOR_rate=LIBOR_rate.interpolate(\"linear\")"
   ]
  },
  {
   "cell_type": "code",
   "execution_count": 34,
   "metadata": {},
   "outputs": [],
   "source": [
    "Tbond_rate=Tbond_rate.interpolate(\"linear\")"
   ]
  },
  {
   "cell_type": "code",
   "execution_count": 35,
   "metadata": {},
   "outputs": [],
   "source": [
    "AIG_data=AIG_data.interpolate(\"linear\")"
   ]
  },
  {
   "cell_type": "code",
   "execution_count": 36,
   "metadata": {},
   "outputs": [],
   "source": [
    "CX_data=CX_data.interpolate(\"linear\")"
   ]
  },
  {
   "cell_type": "code",
   "execution_count": 37,
   "metadata": {},
   "outputs": [],
   "source": [
    "WMT_data=WMT_data.interpolate(\"linear\")"
   ]
  },
  {
   "cell_type": "code",
   "execution_count": 38,
   "metadata": {},
   "outputs": [],
   "source": [
    "## 2f\n",
    "## Print the number of NaNs in each column"
   ]
  },
  {
   "cell_type": "code",
   "execution_count": 39,
   "metadata": {},
   "outputs": [
    {
     "data": {
      "text/plain": [
       "Date      0\n",
       "DPRIME    0\n",
       "dtype: int64"
      ]
     },
     "execution_count": 39,
     "metadata": {},
     "output_type": "execute_result"
    }
   ],
   "source": [
    "Prime_rate.isna().sum()"
   ]
  },
  {
   "cell_type": "code",
   "execution_count": 40,
   "metadata": {},
   "outputs": [
    {
     "data": {
      "text/plain": [
       "Date     0\n",
       "LIBOR    0\n",
       "dtype: int64"
      ]
     },
     "execution_count": 40,
     "metadata": {},
     "output_type": "execute_result"
    }
   ],
   "source": [
    "LIBOR_rate.isna().sum()"
   ]
  },
  {
   "cell_type": "code",
   "execution_count": 41,
   "metadata": {},
   "outputs": [
    {
     "data": {
      "text/plain": [
       "Date        0\n",
       "Mortgage    0\n",
       "dtype: int64"
      ]
     },
     "execution_count": 41,
     "metadata": {},
     "output_type": "execute_result"
    }
   ],
   "source": [
    "Mortgage_rate.isna().sum()"
   ]
  },
  {
   "cell_type": "code",
   "execution_count": 42,
   "metadata": {},
   "outputs": [
    {
     "data": {
      "text/plain": [
       "Date      0\n",
       "T bond    0\n",
       "dtype: int64"
      ]
     },
     "execution_count": 42,
     "metadata": {},
     "output_type": "execute_result"
    }
   ],
   "source": [
    "Tbond_rate.isna().sum()"
   ]
  },
  {
   "cell_type": "code",
   "execution_count": 43,
   "metadata": {},
   "outputs": [
    {
     "data": {
      "text/plain": [
       "Date          0\n",
       "AIG           0\n",
       "Mid Price     0\n",
       "Bid Price     0\n",
       "Ask Price     0\n",
       "High Price    0\n",
       "Low Price     0\n",
       "dtype: int64"
      ]
     },
     "execution_count": 43,
     "metadata": {},
     "output_type": "execute_result"
    }
   ],
   "source": [
    "AIG_data.isna().sum()"
   ]
  },
  {
   "cell_type": "code",
   "execution_count": 44,
   "metadata": {},
   "outputs": [
    {
     "data": {
      "text/plain": [
       "Date          0\n",
       "CX            0\n",
       "Mid Price     0\n",
       "Bid Price     0\n",
       "Ask Price     0\n",
       "High Price    0\n",
       "Low Price     0\n",
       "dtype: int64"
      ]
     },
     "execution_count": 44,
     "metadata": {},
     "output_type": "execute_result"
    }
   ],
   "source": [
    "CX_data.isna().sum()"
   ]
  },
  {
   "cell_type": "code",
   "execution_count": 45,
   "metadata": {},
   "outputs": [
    {
     "data": {
      "text/plain": [
       "Date          0\n",
       "WMT           0\n",
       "Mid Price     0\n",
       "Bid Price     0\n",
       "Ask Price     0\n",
       "High Price    0\n",
       "Low Price     0\n",
       "dtype: int64"
      ]
     },
     "execution_count": 45,
     "metadata": {},
     "output_type": "execute_result"
    }
   ],
   "source": [
    "WMT_data.isna().sum()"
   ]
  },
  {
   "cell_type": "code",
   "execution_count": 46,
   "metadata": {},
   "outputs": [],
   "source": [
    "## Print the number of empty strings in each column"
   ]
  },
  {
   "cell_type": "code",
   "execution_count": 47,
   "metadata": {},
   "outputs": [
    {
     "name": "stdout",
     "output_type": "stream",
     "text": [
      "Date      0\n",
      "DPRIME    0\n",
      "dtype: int64\n"
     ]
    }
   ],
   "source": [
    "print(Prime_rate[Prime_rate==\"\"].count())"
   ]
  },
  {
   "cell_type": "code",
   "execution_count": 48,
   "metadata": {},
   "outputs": [
    {
     "name": "stdout",
     "output_type": "stream",
     "text": [
      "Date     0\n",
      "LIBOR    0\n",
      "dtype: int64\n"
     ]
    }
   ],
   "source": [
    "print(LIBOR_rate[LIBOR_rate==\"\"].count())"
   ]
  },
  {
   "cell_type": "code",
   "execution_count": 49,
   "metadata": {},
   "outputs": [
    {
     "name": "stdout",
     "output_type": "stream",
     "text": [
      "Date        0\n",
      "Mortgage    0\n",
      "dtype: int64\n"
     ]
    }
   ],
   "source": [
    "print(Mortgage_rate[Mortgage_rate==\"\"].count())"
   ]
  },
  {
   "cell_type": "code",
   "execution_count": 50,
   "metadata": {},
   "outputs": [
    {
     "name": "stdout",
     "output_type": "stream",
     "text": [
      "Date      0\n",
      "T bond    0\n",
      "dtype: int64\n"
     ]
    }
   ],
   "source": [
    "print(Tbond_rate[Tbond_rate==\"\"].count())"
   ]
  },
  {
   "cell_type": "code",
   "execution_count": 51,
   "metadata": {},
   "outputs": [
    {
     "name": "stdout",
     "output_type": "stream",
     "text": [
      "Date          0\n",
      "AIG           0\n",
      "Mid Price     0\n",
      "Bid Price     0\n",
      "Ask Price     0\n",
      "High Price    0\n",
      "Low Price     0\n",
      "dtype: int64\n"
     ]
    }
   ],
   "source": [
    "print(AIG_data[AIG_data==\"\"].count())"
   ]
  },
  {
   "cell_type": "code",
   "execution_count": 52,
   "metadata": {},
   "outputs": [
    {
     "name": "stdout",
     "output_type": "stream",
     "text": [
      "Date          0\n",
      "CX            0\n",
      "Mid Price     0\n",
      "Bid Price     0\n",
      "Ask Price     0\n",
      "High Price    0\n",
      "Low Price     0\n",
      "dtype: int64\n"
     ]
    }
   ],
   "source": [
    "print(CX_data[CX_data==\"\"].count())"
   ]
  },
  {
   "cell_type": "code",
   "execution_count": 53,
   "metadata": {},
   "outputs": [
    {
     "name": "stdout",
     "output_type": "stream",
     "text": [
      "Date          0\n",
      "WMT           0\n",
      "Mid Price     0\n",
      "Bid Price     0\n",
      "Ask Price     0\n",
      "High Price    0\n",
      "Low Price     0\n",
      "dtype: int64\n"
     ]
    }
   ],
   "source": [
    "print(WMT_data[WMT_data==\"\"].count())"
   ]
  },
  {
   "cell_type": "code",
   "execution_count": 54,
   "metadata": {},
   "outputs": [],
   "source": [
    "## 3.Plot the following with appropriate labels. \n",
    "## 3a Walmart - Date vs WMT"
   ]
  },
  {
   "cell_type": "code",
   "execution_count": 55,
   "metadata": {},
   "outputs": [
    {
     "ename": "TypeError",
     "evalue": "'>=' not supported between instances of 'str' and 'int'",
     "output_type": "error",
     "traceback": [
      "\u001b[1;31m---------------------------------------------------------------------------\u001b[0m",
      "\u001b[1;31mTypeError\u001b[0m                                 Traceback (most recent call last)",
      "\u001b[1;32m<ipython-input-55-8e64c8033a06>\u001b[0m in \u001b[0;36m<module>\u001b[1;34m()\u001b[0m\n\u001b[0;32m      1\u001b[0m \u001b[0mdf\u001b[0m \u001b[1;33m=\u001b[0m \u001b[0mWMT_data\u001b[0m\u001b[1;33m.\u001b[0m\u001b[0mcopy\u001b[0m\u001b[1;33m(\u001b[0m\u001b[1;33m)\u001b[0m\u001b[1;33m\u001b[0m\u001b[0m\n\u001b[1;32m----> 2\u001b[1;33m \u001b[0mdf\u001b[0m \u001b[1;33m=\u001b[0m \u001b[0mdf\u001b[0m\u001b[1;33m[\u001b[0m\u001b[1;33m(\u001b[0m\u001b[0mdf\u001b[0m\u001b[1;33m[\u001b[0m\u001b[1;34m'Date'\u001b[0m\u001b[1;33m]\u001b[0m \u001b[1;33m>=\u001b[0m \u001b[1;36m2007\u001b[0m\u001b[1;33m)\u001b[0m \u001b[1;33m&\u001b[0m \u001b[1;33m(\u001b[0m\u001b[0mdf\u001b[0m\u001b[1;33m[\u001b[0m\u001b[1;34m'Date'\u001b[0m\u001b[1;33m]\u001b[0m \u001b[1;33m<=\u001b[0m \u001b[1;36m2009\u001b[0m\u001b[1;33m)\u001b[0m\u001b[1;33m]\u001b[0m\u001b[1;33m\u001b[0m\u001b[0m\n\u001b[0m",
      "\u001b[1;32m~\\Anaconda3-updated\\lib\\site-packages\\pandas\\core\\ops.py\u001b[0m in \u001b[0;36mwrapper\u001b[1;34m(self, other, axis)\u001b[0m\n\u001b[0;32m   1281\u001b[0m \u001b[1;33m\u001b[0m\u001b[0m\n\u001b[0;32m   1282\u001b[0m             \u001b[1;32mwith\u001b[0m \u001b[0mnp\u001b[0m\u001b[1;33m.\u001b[0m\u001b[0merrstate\u001b[0m\u001b[1;33m(\u001b[0m\u001b[0mall\u001b[0m\u001b[1;33m=\u001b[0m\u001b[1;34m'ignore'\u001b[0m\u001b[1;33m)\u001b[0m\u001b[1;33m:\u001b[0m\u001b[1;33m\u001b[0m\u001b[0m\n\u001b[1;32m-> 1283\u001b[1;33m                 \u001b[0mres\u001b[0m \u001b[1;33m=\u001b[0m \u001b[0mna_op\u001b[0m\u001b[1;33m(\u001b[0m\u001b[0mvalues\u001b[0m\u001b[1;33m,\u001b[0m \u001b[0mother\u001b[0m\u001b[1;33m)\u001b[0m\u001b[1;33m\u001b[0m\u001b[0m\n\u001b[0m\u001b[0;32m   1284\u001b[0m             \u001b[1;32mif\u001b[0m \u001b[0mis_scalar\u001b[0m\u001b[1;33m(\u001b[0m\u001b[0mres\u001b[0m\u001b[1;33m)\u001b[0m\u001b[1;33m:\u001b[0m\u001b[1;33m\u001b[0m\u001b[0m\n\u001b[0;32m   1285\u001b[0m                 raise TypeError('Could not compare {typ} type with Series'\n",
      "\u001b[1;32m~\\Anaconda3-updated\\lib\\site-packages\\pandas\\core\\ops.py\u001b[0m in \u001b[0;36mna_op\u001b[1;34m(x, y)\u001b[0m\n\u001b[0;32m   1141\u001b[0m \u001b[1;33m\u001b[0m\u001b[0m\n\u001b[0;32m   1142\u001b[0m         \u001b[1;32melif\u001b[0m \u001b[0mis_object_dtype\u001b[0m\u001b[1;33m(\u001b[0m\u001b[0mx\u001b[0m\u001b[1;33m.\u001b[0m\u001b[0mdtype\u001b[0m\u001b[1;33m)\u001b[0m\u001b[1;33m:\u001b[0m\u001b[1;33m\u001b[0m\u001b[0m\n\u001b[1;32m-> 1143\u001b[1;33m             \u001b[0mresult\u001b[0m \u001b[1;33m=\u001b[0m \u001b[0m_comp_method_OBJECT_ARRAY\u001b[0m\u001b[1;33m(\u001b[0m\u001b[0mop\u001b[0m\u001b[1;33m,\u001b[0m \u001b[0mx\u001b[0m\u001b[1;33m,\u001b[0m \u001b[0my\u001b[0m\u001b[1;33m)\u001b[0m\u001b[1;33m\u001b[0m\u001b[0m\n\u001b[0m\u001b[0;32m   1144\u001b[0m \u001b[1;33m\u001b[0m\u001b[0m\n\u001b[0;32m   1145\u001b[0m         \u001b[1;32melif\u001b[0m \u001b[0mis_datetimelike_v_numeric\u001b[0m\u001b[1;33m(\u001b[0m\u001b[0mx\u001b[0m\u001b[1;33m,\u001b[0m \u001b[0my\u001b[0m\u001b[1;33m)\u001b[0m\u001b[1;33m:\u001b[0m\u001b[1;33m\u001b[0m\u001b[0m\n",
      "\u001b[1;32m~\\Anaconda3-updated\\lib\\site-packages\\pandas\\core\\ops.py\u001b[0m in \u001b[0;36m_comp_method_OBJECT_ARRAY\u001b[1;34m(op, x, y)\u001b[0m\n\u001b[0;32m   1120\u001b[0m         \u001b[0mresult\u001b[0m \u001b[1;33m=\u001b[0m \u001b[0mlibops\u001b[0m\u001b[1;33m.\u001b[0m\u001b[0mvec_compare\u001b[0m\u001b[1;33m(\u001b[0m\u001b[0mx\u001b[0m\u001b[1;33m,\u001b[0m \u001b[0my\u001b[0m\u001b[1;33m,\u001b[0m \u001b[0mop\u001b[0m\u001b[1;33m)\u001b[0m\u001b[1;33m\u001b[0m\u001b[0m\n\u001b[0;32m   1121\u001b[0m     \u001b[1;32melse\u001b[0m\u001b[1;33m:\u001b[0m\u001b[1;33m\u001b[0m\u001b[0m\n\u001b[1;32m-> 1122\u001b[1;33m         \u001b[0mresult\u001b[0m \u001b[1;33m=\u001b[0m \u001b[0mlibops\u001b[0m\u001b[1;33m.\u001b[0m\u001b[0mscalar_compare\u001b[0m\u001b[1;33m(\u001b[0m\u001b[0mx\u001b[0m\u001b[1;33m,\u001b[0m \u001b[0my\u001b[0m\u001b[1;33m,\u001b[0m \u001b[0mop\u001b[0m\u001b[1;33m)\u001b[0m\u001b[1;33m\u001b[0m\u001b[0m\n\u001b[0m\u001b[0;32m   1123\u001b[0m     \u001b[1;32mreturn\u001b[0m \u001b[0mresult\u001b[0m\u001b[1;33m\u001b[0m\u001b[0m\n\u001b[0;32m   1124\u001b[0m \u001b[1;33m\u001b[0m\u001b[0m\n",
      "\u001b[1;32mpandas\\_libs\\ops.pyx\u001b[0m in \u001b[0;36mpandas._libs.ops.scalar_compare\u001b[1;34m()\u001b[0m\n",
      "\u001b[1;31mTypeError\u001b[0m: '>=' not supported between instances of 'str' and 'int'"
     ]
    }
   ],
   "source": [
    "df = WMT_data.copy()\n",
    "df = df[(df['Date'] >= 2007) & (df['Date'] <= 2009)]"
   ]
  },
  {
   "cell_type": "code",
   "execution_count": null,
   "metadata": {},
   "outputs": [],
   "source": [
    "plt.plot(WMT_data[:265*5]['Date'].values, usd_data[:265*5]['USD Index'].values,linewidth=0.5)\n",
    "plt.xticks(np.arange(0,265*6,265),[str(i)[:4] for i in list(usd_data[:265*6]['date'].values)[::265]], rotation=90)\n",
    "plt.xlabel('Date')\n",
    "plt.ylabel('USD Rate')\n",
    "plt.title('USD Rate before Cleaning')\n",
    "plt.show()"
   ]
  }
 ],
 "metadata": {
  "kernelspec": {
   "display_name": "Python 3",
   "language": "python",
   "name": "python3"
  },
  "language_info": {
   "codemirror_mode": {
    "name": "ipython",
    "version": 3
   },
   "file_extension": ".py",
   "mimetype": "text/x-python",
   "name": "python",
   "nbconvert_exporter": "python",
   "pygments_lexer": "ipython3",
   "version": "3.7.0"
  }
 },
 "nbformat": 4,
 "nbformat_minor": 2
}
